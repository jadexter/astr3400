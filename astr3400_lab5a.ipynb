{
 "cells": [
  {
   "cell_type": "code",
   "execution_count": 1,
   "metadata": {},
   "outputs": [],
   "source": [
    "%matplotlib inline\n",
    "from astropy.io import fits\n",
    "import numpy as np\n",
    "import copy\n",
    "import matplotlib.pyplot as plt\n",
    "import constants as pc"
   ]
  },
  {
   "cell_type": "markdown",
   "metadata": {},
   "source": [
    "### Lab 5: a \"production\" run\n",
    "\n",
    "Option A: hydro code"
   ]
  },
  {
   "cell_type": "markdown",
   "metadata": {},
   "source": [
    "### 1. Copy the hydro3_mesa.py file (hydro code) to a new version with your initials. Modify your version of the code to use mesa.py to read MESA star data for the initial condition (a sample solution to Lab 1)\n",
    "\n",
    "Find the marked locations in that code (e.g., search for \"TODO EDIT\"), and make changes you need to work with the MESA data. The example of itype HEGER may be useful."
   ]
  },
  {
   "cell_type": "markdown",
   "metadata": {},
   "source": [
    "### 2. Set up an initial condition of a MESA star using the modified hydro code and use it to read the profile data from Lab 1 'lab1/profile3.data' in the course github repository. Perform some test to demonstrate that your code works, and explain how you know."
   ]
  },
  {
   "cell_type": "markdown",
   "metadata": {},
   "source": [
    "import 1D numerical hydrodynamics code and define an object that will store our simulation"
   ]
  },
  {
   "cell_type": "code",
   "execution_count": 2,
   "metadata": {},
   "outputs": [],
   "source": [
    "# import a code file hydro3.py\n",
    "import hydro3_mesa as hydro3\n",
    "\n",
    "# day 1 problem setup\n",
    "\n",
    "# define a dictionary of arguments that we will pass to the hydrodynamics code specifying the problem to run\n",
    "args = {'mname':'lab1/profile3.data','htype':'zero','piston_eexp':5e50,'v_piston':1e9,'piston_stop':10,'r_outer':1e13,'rmin':1e8,'t_stop':1e7,'noplot':1}\n",
    "\n",
    "# define the variable h which is a \"lagrange_hydro_1d\" object (instance of a class)\n",
    "h = hydro3.lagrange_hydro_1d(**args)"
   ]
  },
  {
   "cell_type": "markdown",
   "metadata": {},
   "source": [
    "### 3. define our problem with initial and boundary conditions\n",
    "\n",
    "here we are going to set up a problem where we simply continue evolving the initial star in hydrodynamics. (assuming there is no more fusion or other energy generation.)\n",
    "\n",
    "We want to initialize the code's initial conditions with your new \"MESA\" option, and setup boundary conditions where we inject momentum/energy by moving a piston before allowing the material to inflow (\"FALLBACK\"). The outer boundary condition is \"OUTFLOW\""
   ]
  },
  {
   "cell_type": "code",
   "execution_count": 1,
   "metadata": {},
   "outputs": [],
   "source": [
    "# variables stored within our object h are accessed by h.variable_name\n",
    "# use your past labs and class notebooks, the hydro code notes, and class slides for help!\n"
   ]
  },
  {
   "cell_type": "markdown",
   "metadata": {},
   "source": [
    "### 4. Form a hypothesis\n",
    "\n",
    "Thinking of the problem you set up above, form a hypothesis: what do you think might happen to a massive star with momentum/energy injected in its core? Write your prediction in 1-2 sentences below."
   ]
  },
  {
   "cell_type": "markdown",
   "metadata": {},
   "source": [
    "### 5. Now run the code for $10^6$ s, saving the results at the list of times below. \n",
    "\n",
    "follow your lab4 example, or use the \"run_checkpoint\" function in the hydro code."
   ]
  },
  {
   "cell_type": "code",
   "execution_count": 2,
   "metadata": {
    "scrolled": true
   },
   "outputs": [],
   "source": [
    "times = [1e2,3e2,1e3,3e3,1e4,3e4,1e5,3e5,1e6]\n"
   ]
  },
  {
   "cell_type": "markdown",
   "metadata": {},
   "source": [
    "### 6. Test your hypothesis by analyzing the data\n",
    "\n",
    "Using plots or written output similar to what we have looked at in past labs, determine how the star's structure is changing as a function of time.\n",
    "\n",
    "In addition to studying the data from the \"zones\" in the hydro object, it will also be helpful to look at the total mass (h.zones.mcum) and the mass inside the innermost zone (h.mass_r_inner)."
   ]
  },
  {
   "cell_type": "code",
   "execution_count": null,
   "metadata": {},
   "outputs": [],
   "source": []
  },
  {
   "cell_type": "markdown",
   "metadata": {},
   "source": [
    "### 7. Develop a quantitative, analytic model to compare to the data\n",
    "\n",
    "For example, if your star is exploding you could compare to the supernova scalings that we established in class. If your star is collapsing, you could compare the speed of the collapse or the time for the material to fall inwards to the free-fall time. If your star is expanding, you could compare the local net fluid velocity to the escape speed. Any of these models you develop can be applied to the entire fluid, or as a function of radius, whichever you prefer. \n",
    "\n",
    "### Please consult with a member of the teaching team to discuss your conclusions to this point and your plan before proceeding further!"
   ]
  },
  {
   "cell_type": "code",
   "execution_count": null,
   "metadata": {},
   "outputs": [],
   "source": []
  },
  {
   "cell_type": "markdown",
   "metadata": {},
   "source": [
    "### 8. Now compare your model to the data\n",
    "\n",
    "Make a plot comparing one prediction of your analytic model to the numerical result from your hydro calculation. In what ways are they similar or different? Do you consider this a useful model for understanding the time evolution of your star? Why or why not?"
   ]
  },
  {
   "cell_type": "code",
   "execution_count": null,
   "metadata": {},
   "outputs": [],
   "source": []
  }
 ],
 "metadata": {
  "kernelspec": {
   "display_name": "Python 3",
   "language": "python",
   "name": "python3"
  },
  "language_info": {
   "codemirror_mode": {
    "name": "ipython",
    "version": 3
   },
   "file_extension": ".py",
   "mimetype": "text/x-python",
   "name": "python",
   "nbconvert_exporter": "python",
   "pygments_lexer": "ipython3",
   "version": "3.7.3"
  }
 },
 "nbformat": 4,
 "nbformat_minor": 2
}
