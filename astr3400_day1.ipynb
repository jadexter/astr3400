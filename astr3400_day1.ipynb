{
 "cells": [
  {
   "cell_type": "code",
   "execution_count": null,
   "metadata": {},
   "outputs": [],
   "source": [
    "%matplotlib inline\n",
    "from astropy.io import fits\n",
    "import numpy as np\n",
    "import copy\n",
    "import matplotlib.pyplot as plt"
   ]
  },
  {
   "cell_type": "markdown",
   "metadata": {},
   "source": [
    "### Let's blow up a star"
   ]
  },
  {
   "cell_type": "markdown",
   "metadata": {},
   "source": [
    "1. import 1D numerical hydrodynamics code and define an object that will store our simulation"
   ]
  },
  {
   "cell_type": "code",
   "execution_count": null,
   "metadata": {},
   "outputs": [],
   "source": [
    "# import a code file hydro3.py\n",
    "import hydro3\n",
    "\n",
    "# define a dictionary of arguments that we will pass to the hydrodynamics code specifying the problem to run\n",
    "args = {'hname':'z25.0','htype':'zero','piston_eexp':1.3e51,'v_piston':1e9,'piston_stop':10,'r_outer':1e14,'rmin':1e8,'t_stop':1e7,'noplot':1}\n",
    "\n",
    "# define the variable h which is a \"lagrange_hydro_1d\" object (instance of a class)\n",
    "h = hydro3.lagrange_hydro_1d(**args)"
   ]
  },
  {
   "cell_type": "markdown",
   "metadata": {},
   "source": [
    "2. define our problem with initial and boundary conditions"
   ]
  },
  {
   "cell_type": "code",
   "execution_count": null,
   "metadata": {},
   "outputs": [],
   "source": [
    "# variables stored within our object h are accessed by h.variable_name\n",
    "h.bctype=[h.FALLBACK, h.OUTFLOW]\n",
    "h.itype=h.HEGER"
   ]
  },
  {
   "cell_type": "markdown",
   "metadata": {},
   "source": [
    "3. store the initial condition data (taken from a stellar evolution code)"
   ]
  },
  {
   "cell_type": "code",
   "execution_count": null,
   "metadata": {},
   "outputs": [],
   "source": [
    "# set the simulation stop time to 0s\n",
    "h.t_stop=0\n",
    "\n",
    "# class \"methods\" (functions defined within a class) are accessed by h.function_name()\n",
    "h.run()\n",
    "\n",
    "# this is a lasting copy of the simulation at t=0\n",
    "h_init = copy.deepcopy(h)"
   ]
  },
  {
   "cell_type": "markdown",
   "metadata": {},
   "source": [
    "4. simulate the explosion! (numerically solve partial differential equations for the evolution of the fluid)"
   ]
  },
  {
   "cell_type": "code",
   "execution_count": null,
   "metadata": {},
   "outputs": [],
   "source": [
    "# set the simulation stop time to 10^6 s\n",
    "h.t_stop=1e6\n",
    "\n",
    "# run the simulation\n",
    "h.run()\n",
    "\n",
    "# the result here is the final simulation after 10^6 s\n",
    "h_final = copy.deepcopy(h)"
   ]
  },
  {
   "cell_type": "markdown",
   "metadata": {},
   "source": [
    "### Let's explore the data"
   ]
  },
  {
   "cell_type": "markdown",
   "metadata": {},
   "source": [
    "1. Make a plot of some of the quantities of the initial star\n",
    "\n",
    "##### Q: What is the gas doing?"
   ]
  },
  {
   "cell_type": "code",
   "execution_count": null,
   "metadata": {},
   "outputs": [],
   "source": [
    "# constants in cgs units\n",
    "mp=1.67e-24\n",
    "kb=1.38e-16\n",
    "m_sun=1.99e33\n",
    "\n",
    "# font size for labels\n",
    "fs=14\n",
    "\n",
    "# define variables\n",
    "r_init = h_init.zones.r\n",
    "v_init = h_init.zones.v\n",
    "rho_init = h_init.zones.d\n",
    "e_init = h_init.zones.e\n",
    "p_init = (h_init.gamma-1.)*e_init*rho_init\n",
    "\n",
    "# make a few plots\n",
    "plt.figure(figsize=(5,4))\n",
    "plt.loglog(r_init,rho_init)\n",
    "plt.xlabel(r'radius (cm)',fontsize=fs); plt.ylabel(r'mass density (g cm$^{-3}$)',fontsize=fs)\n",
    "\n",
    "plt.figure(figsize=(5,4))\n",
    "plt.semilogx(r_init,v_init/1e8)\n",
    "plt.xlabel(r'radius (cm)',fontsize=fs); plt.ylabel(r'gas velocity (km s$^{-1}$)',fontsize=fs)\n",
    "\n",
    "# this is temperature\n",
    "plt.figure(figsize=(5,4))\n",
    "plt.loglog(r_init,p_init/rho_init*mp/kb)\n",
    "plt.xlabel(r'radius (cm)',fontsize=fs); plt.ylabel(r'gas temperature (K)',fontsize=fs)\n",
    "\n",
    "print('total mass in solar masses: ',np.sum(h_init.zones.mass)/m_sun)"
   ]
  },
  {
   "cell_type": "markdown",
   "metadata": {},
   "source": [
    "2. To the best of your ability, sketch what you think similar plots of density and temperature vs. radius might look like for the Sun\n",
    "\n",
    "Hint: what is the mass of the Sun and its radius? what are the core and surface temperatures?"
   ]
  },
  {
   "cell_type": "code",
   "execution_count": null,
   "metadata": {},
   "outputs": [],
   "source": []
  },
  {
   "cell_type": "markdown",
   "metadata": {},
   "source": [
    "3. Using the concept of escape velocity, is the material gravitationally bound?"
   ]
  },
  {
   "cell_type": "code",
   "execution_count": null,
   "metadata": {},
   "outputs": [],
   "source": []
  },
  {
   "cell_type": "markdown",
   "metadata": {},
   "source": [
    "4. Now let's look at the final state. \n",
    "\n",
    "##### Q: What do you notice is different from before?"
   ]
  },
  {
   "cell_type": "code",
   "execution_count": null,
   "metadata": {},
   "outputs": [],
   "source": [
    "# define variables\n",
    "r_final = h_final.zones.r\n",
    "v_final = h_final.zones.v\n",
    "rho_final = h_final.zones.d\n",
    "e_final = h_final.zones.e\n",
    "p_final = (h_final.gamma-1.)*e_final*rho_final\n",
    "\n",
    "# make a few plots\n",
    "plt.figure(figsize=(5,4))\n",
    "plt.loglog(r_final,rho_final)\n",
    "plt.xlabel(r'radius (cm)',fontsize=fs); plt.ylabel(r'mass density (g cm$^{-3}$)',fontsize=fs)\n",
    "\n",
    "plt.figure(figsize=(5,4))\n",
    "plt.semilogx(r_final,v_final/1e8)\n",
    "plt.xlabel(r'radius (cm)',fontsize=fs); plt.ylabel(r'gas velocity ($10^3$ km s$^{-1}$)',fontsize=fs)\n",
    "\n",
    "# this is temperature\n",
    "plt.figure(figsize=(5,4))\n",
    "plt.loglog(r_final,p_final/rho_final*mp/kb)\n",
    "plt.xlabel(r'radius (cm)',fontsize=fs); plt.ylabel(r'gas temperature (K)',fontsize=fs)\n",
    "\n",
    "print('total mass in solar masses: ',np.sum(h_final.zones.mass)/m_sun)"
   ]
  },
  {
   "cell_type": "markdown",
   "metadata": {},
   "source": [
    "5. Using these plots, what seems to have happened to the star? What do you think you understand from this, and what open questions remain?"
   ]
  },
  {
   "cell_type": "code",
   "execution_count": null,
   "metadata": {},
   "outputs": [],
   "source": []
  }
 ],
 "metadata": {
  "kernelspec": {
   "display_name": "Python 3",
   "language": "python",
   "name": "python3"
  },
  "language_info": {
   "codemirror_mode": {
    "name": "ipython",
    "version": 3
   },
   "file_extension": ".py",
   "mimetype": "text/x-python",
   "name": "python",
   "nbconvert_exporter": "python",
   "pygments_lexer": "ipython3",
   "version": "3.6.9"
  }
 },
 "nbformat": 4,
 "nbformat_minor": 2
}
