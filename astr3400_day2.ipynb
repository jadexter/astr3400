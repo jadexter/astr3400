{
 "cells": [
  {
   "cell_type": "code",
   "execution_count": null,
   "metadata": {},
   "outputs": [],
   "source": [
    "%matplotlib inline\n",
    "import matplotlib.pyplot as plt\n",
    "import numpy as np"
   ]
  },
  {
   "cell_type": "markdown",
   "metadata": {},
   "source": [
    "### 1. define a function"
   ]
  },
  {
   "cell_type": "code",
   "execution_count": null,
   "metadata": {},
   "outputs": [],
   "source": [
    "def add_multiply(x,y):\n",
    "    # insert your code here adding x and y and assigning to a variable result1\n",
    "    \n",
    "    # insert your code here multiplying x and y and assigning to a variable result2\n",
    "    \n",
    "    return result1,result2\n",
    "\n",
    "# call function\n",
    "x=7.; y=5.\n",
    "result1,result2 = add_multiply(x,y)\n",
    "\n",
    "# print out the results\n",
    "print('add result: ',result1)\n",
    "print('multiply result: ',result2)"
   ]
  },
  {
   "cell_type": "markdown",
   "metadata": {},
   "source": [
    "### 2. read data from a file\n",
    "\n",
    "In research, we are often handed a data file and would like to \"read\" the data into code variables. The examples below use a real data file (describing the physical properties of a massive star, used in the day1 notebook).\n",
    "\n",
    "There are many different ways to read data into variables in Python, and we need to adapt each of them when the \"format\" (the way the data are stored in the file, like rows or columns or with labels) changes.\n",
    "\n",
    "We'll explore the different methods for this sample file in class, and then for your first lab assignment you will write a piece of code to read a data file from MESA, which contains similar information but with a slightly different format."
   ]
  },
  {
   "cell_type": "code",
   "execution_count": null,
   "metadata": {},
   "outputs": [],
   "source": [
    "# method 1\n",
    "file_name = 'heger_progenitors/zero/z25.0'\n",
    "f = open(file_name)\n",
    "# this puts all of the file into a string, usually not super helpful!\n",
    "file_contents = f.readlines()\n",
    "print(file_contents)\n",
    "f.close()\n",
    "\n",
    "f = open(file_name)\n",
    "# this takes one line of the file at a time, and lets you do something with the result\n",
    "# here the data are read in rows, and we are assigning them to variables corresponding to the list of numbers in each column\n",
    "cell_index = []; enclosed_mass = []; radius = []\n",
    "for line in f:\n",
    "    variables = line.split()\n",
    "    cell_index.append(variables[0])\n",
    "    enclosed_mass.append(variables[1])\n",
    "    radius.append(variables[2])"
   ]
  },
  {
   "cell_type": "code",
   "execution_count": null,
   "metadata": {},
   "outputs": [],
   "source": [
    "# this is the mass enclosed in the star at the different locations where the calculation is done\n",
    "# note that the first two entries are \"header information\"\n",
    "print(enclosed_mass)"
   ]
  },
  {
   "cell_type": "code",
   "execution_count": null,
   "metadata": {},
   "outputs": [],
   "source": [
    "# method 2\n",
    "# taken from our hydrodynamics code, the heger.py file has a function read_heger_star\n",
    "# this is a version of it that reads all the data into a 2d array of each variable at all locations in the star\n",
    "file = open(file_name)\n",
    "# read header                                                                                                              \n",
    "i=0\n",
    "header1=file.readline()\n",
    "header2=file.readline().split()\n",
    "# this header is in a very strange and difficult to read format!\n",
    "print('header: ',header2,len(header2))\n",
    "indx=np.concatenate((np.arange(11)+1,14+np.arange(20)))\n",
    "# read data                                                                                                                \n",
    "for line in file:\n",
    "    # turn the line of the file into a numpy array\n",
    "    ln=np.asarray(line.split())\n",
    "    # set values of '---' (missing or bad data?) = 0\n",
    "    ln=np.where(ln!='---',ln,'0')\n",
    "    if i==0: data=ln\n",
    "    else: data=np.concatenate((data,ln))\n",
    "    # keep count of how many lines there are\n",
    "    i=i+1\n",
    "file.close()\n",
    "    \n",
    "data=np.transpose(data.reshape((i,len(ln))))\n",
    "# e.g., to compare to what we had above you could do (and making it a list of floating point numbers)\n",
    "enclosed_mass = np.array(data[1],dtype=float)"
   ]
  },
  {
   "cell_type": "code",
   "execution_count": null,
   "metadata": {},
   "outputs": [],
   "source": [
    "# this is the enclosed mass at each shell like above\n",
    "enclosed_mass"
   ]
  },
  {
   "cell_type": "code",
   "execution_count": null,
   "metadata": {},
   "outputs": [],
   "source": [
    "# method 3\n",
    "# the routine \"ascii.read\" from astropy.io is magical, but takes a little bit of trial & error ...\n",
    "from astropy.io import ascii\n",
    "data = ascii.read(file_name,data_start=2)\n",
    "\n",
    "# when it works, the file is read into a Table. which data columns do we have?\n",
    "print(data.columns)\n",
    "\n",
    "# this is how we get the data from the column called 'col2' \n",
    "# (usually this would be a more sensible name, but I didn't figure out how to read the header of this file correctly)\n",
    "enclosed_mass = data['col2']"
   ]
  },
  {
   "cell_type": "code",
   "execution_count": null,
   "metadata": {},
   "outputs": [],
   "source": [
    "enclosed_mass"
   ]
  },
  {
   "cell_type": "markdown",
   "metadata": {},
   "source": [
    "### 3. make a plot"
   ]
  },
  {
   "cell_type": "code",
   "execution_count": null,
   "metadata": {},
   "outputs": [],
   "source": [
    "# make a log-log plot of enclosed mass vs. radius using the above results\n",
    "plt.loglog(x_variable, y_variable)\n",
    "# if you want you can change the x- and y- data ranges by assigning numbers to these variables\n",
    "#x_min= ; x_max = ; y_min = ; y_max = ;\n",
    "#plt.xlim(x_min,x_max); plt.ylim(y_min,y_max)\n",
    "\n",
    "# assign names to the axes\n",
    "plt.xlabel('x axis name'); plt.ylabel('y axis name')"
   ]
  },
  {
   "cell_type": "markdown",
   "metadata": {},
   "source": [
    "### 4. your turn!\n",
    "find the data column corresponding to temperature, and write a function using one of the above methods to return the radius and temperature as variables. use the function to read the file and get those variables, and make a log-log plot of temperature vs. radius.\n",
    "\n",
    "Using your plot, approximately what is the core temperature? What is the surface / photospheric / effective temperature? Does this result agree with the plot of the \"initial\" pre-explosion star on the day 1 notebook?"
   ]
  },
  {
   "cell_type": "code",
   "execution_count": null,
   "metadata": {},
   "outputs": [],
   "source": []
  }
 ],
 "metadata": {
  "kernelspec": {
   "display_name": "Python 3",
   "language": "python",
   "name": "python3"
  },
  "language_info": {
   "codemirror_mode": {
    "name": "ipython",
    "version": 3
   },
   "file_extension": ".py",
   "mimetype": "text/x-python",
   "name": "python",
   "nbconvert_exporter": "python",
   "pygments_lexer": "ipython3",
   "version": "3.7.3"
  }
 },
 "nbformat": 4,
 "nbformat_minor": 2
}
