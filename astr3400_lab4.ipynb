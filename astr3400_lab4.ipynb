{
 "cells": [
  {
   "cell_type": "code",
   "execution_count": null,
   "metadata": {},
   "outputs": [],
   "source": [
    "%matplotlib inline\n",
    "from astropy.io import fits\n",
    "import numpy as np\n",
    "import copy\n",
    "import matplotlib.pyplot as plt\n",
    "import constants as pc"
   ]
  },
  {
   "cell_type": "markdown",
   "metadata": {},
   "source": [
    "### Lab 4: data analysis\n",
    "\n",
    "In this lab, we will practice analyzing and interpreting data. We will:\n",
    "\n",
    "--set up a hydrodynamics calculation starting from an initial model of a massive star at core collapse\n",
    "\n",
    "--run the hydro code to follow the subsequent evolution\n",
    "\n",
    "--make a prediction for what should happen\n",
    "\n",
    "--make plots from data saved at snapshots in time to compare our prediction with the numerical result\n",
    "\n",
    "--devise and compare a simple, quantitative calculation with the numerical result"
   ]
  },
  {
   "cell_type": "markdown",
   "metadata": {},
   "source": [
    "first, import 1D numerical hydrodynamics code and define a simulation object"
   ]
  },
  {
   "cell_type": "code",
   "execution_count": null,
   "metadata": {},
   "outputs": [],
   "source": [
    "# import a code file hydro3.py\n",
    "import hydro3\n",
    "\n",
    "# define a dictionary with some arguments that we will pass to the hydrodynamics code\n",
    "# the \"hnames\" and \"htype\" arguments mean we are using a solution for a massive star from Heger & Woosley\n",
    "# it has \"zero\" metallicity, meaning it will be a blue supergiant star\n",
    "\n",
    "# noplot means we aren't going to draw plots as the code runs, which makes it faster\n",
    "args = {'hname':'z25.0','htype':'zero','noplot':1}\n",
    "\n",
    "# define the variable h which is a \"lagrange_hydro_1d\" object (instance of a class)\n",
    "h = hydro3.lagrange_hydro_1d(**args)\n",
    "\n",
    "# this tells the hydro code that we are using a Heger & Woosley star (e.g., so that it knows how to read the file)\n",
    "h.itype=h.HEGER"
   ]
  },
  {
   "cell_type": "markdown",
   "metadata": {},
   "source": [
    "### 1. define our problem with initial and boundary conditions\n",
    "\n",
    "here we are going to set up a problem where we simply continue evolving the initial star in hydrodynamics. (assuming there is no more fusion or other energy generation.)\n",
    "\n",
    "We want to initialize the code's initial conditions and setup boundary conditions where the material is free to leave through inner/outer boundaries (\"inflow\" and \"outflow\" boundary conditions at rmin, rmax)"
   ]
  },
  {
   "cell_type": "code",
   "execution_count": null,
   "metadata": {},
   "outputs": [],
   "source": [
    "# variables stored within our object h are accessed by h.variable_name\n",
    "# use your past labs and class notebooks, the hydro code notes, and class slides for help!"
   ]
  },
  {
   "cell_type": "markdown",
   "metadata": {},
   "source": [
    "### 2. now run the hydro code from t = 0s to t = $10^4$ s, saving the result every $10^3$ s.\n",
    "\n",
    "You probably want to set up a loop to carry this out, and could consider saving the hydro \"h\" objects in a list at each loop iteration. It may be useful to use copy.deepcopy(h) to make sure that the list entries do not change as you run to later times."
   ]
  },
  {
   "cell_type": "code",
   "execution_count": null,
   "metadata": {},
   "outputs": [],
   "source": []
  },
  {
   "cell_type": "markdown",
   "metadata": {},
   "source": [
    "### 3. Form a hypothesis\n",
    "\n",
    "Thinking of the problem you set up above, form a hypothesis: what do you think should happen to a massive star during core collapse? Write your prediction in 1-2 sentences below."
   ]
  },
  {
   "cell_type": "markdown",
   "metadata": {},
   "source": []
  },
  {
   "cell_type": "markdown",
   "metadata": {},
   "source": [
    "### 4. Test your hypothesis by analyzing the data\n",
    "\n",
    "Using plots or written output similar to what we have looked at in past labs, determine how the star's structure is changing as a function of time.\n",
    "\n",
    "In addition to studying the data from the \"zones\" in the hydro object, it will also be helpful to look at the total mass (h.zones.mcum) and the mass inside the innermost zone (h.mass_r_inner)."
   ]
  },
  {
   "cell_type": "code",
   "execution_count": null,
   "metadata": {},
   "outputs": [],
   "source": []
  },
  {
   "cell_type": "markdown",
   "metadata": {},
   "source": [
    "### 5. Develop a quantitative, analytic model to compare to the data\n",
    "\n",
    "For example, if your star is exploding you could compare to the supernova scalings that we established in class. If your star is collapsing, you could compare the speed of the collapse or the time for the material to fall inwards to the free-fall time. If your star is stationary, you could test whether it seems to satisfy the equation of hydrostatic equilibrium. Any of these models you develop can be applied to the entire fluid, or as a function of radius, whichever you prefer. \n",
    "\n",
    "### Please consult with a member of the teaching team to discuss your conclusions to this point and your plan before proceeding further!"
   ]
  },
  {
   "cell_type": "code",
   "execution_count": null,
   "metadata": {},
   "outputs": [],
   "source": []
  },
  {
   "cell_type": "markdown",
   "metadata": {},
   "source": [
    "### 6. Now compare your model to the data\n",
    "\n",
    "Make a plot comparing one prediction of your analytic model to the numerical result from your hydro calculation. In what ways are they similar or different? Do you consider this a useful model for understanding the time evolution of your star? Why or why not?"
   ]
  },
  {
   "cell_type": "code",
   "execution_count": null,
   "metadata": {},
   "outputs": [],
   "source": []
  }
 ],
 "metadata": {
  "kernelspec": {
   "display_name": "Python 3",
   "language": "python",
   "name": "python3"
  },
  "language_info": {
   "codemirror_mode": {
    "name": "ipython",
    "version": 3
   },
   "file_extension": ".py",
   "mimetype": "text/x-python",
   "name": "python",
   "nbconvert_exporter": "python",
   "pygments_lexer": "ipython3",
   "version": "3.7.3"
  }
 },
 "nbformat": 4,
 "nbformat_minor": 2
}
