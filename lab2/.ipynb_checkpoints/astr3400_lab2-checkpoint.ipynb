{
 "cells": [
  {
   "cell_type": "code",
   "execution_count": null,
   "metadata": {},
   "outputs": [],
   "source": [
    "%matplotlib inline\n",
    "import matplotlib.pyplot as plt\n",
    "import numpy as np"
   ]
  },
  {
   "cell_type": "markdown",
   "metadata": {},
   "source": [
    "# Lab 2: set up a numerical hydrostatic equilibrium\n",
    "\n",
    "Follow all of the steps below. In the numbered sections, you will need to write your own code where prompted (e.g., to calculate enclosed mass and the pressure profile). Please answer all questions, and make plots where requested. For grading, it would be useful to write short comments like those provided to explain what your code is doing.\n",
    "\n",
    "Collaborate in teams, ask your classmates, and reach out to the teaching team when stuck!"
   ]
  },
  {
   "cell_type": "markdown",
   "metadata": {},
   "source": [
    "### define a set of zone locations in radius\n",
    "\n",
    "Note: variable names in the notebook are chosen so that for a variable x, x_I is defined at interfaces, x_zones is defined at zone centers, and Delta_x is the difference in that quantity across a zone"
   ]
  },
  {
   "cell_type": "code",
   "execution_count": null,
   "metadata": {},
   "outputs": [],
   "source": [
    "# number of zone centers\n",
    "n_zones = 128\n",
    "\n",
    "# inner and outer radius in cm\n",
    "r_inner = 1e8\n",
    "r_outer = 1e12\n",
    "\n",
    "# calculate the radius of each zone *interface*, with the innermost interface at r_inner and the outermost at r_outer\n",
    "r_I = r_inner*10**(np.arange(n_zones+1)/n_zones*np.log10(r_outer/r_inner))\n",
    "\n",
    "# now use the interface locations to calculate the zone centers, halfway in between inner/outer interface\n",
    "\n",
    "# this is the size of each zone\n",
    "Delta_r = r_I[1:]-r_I[:-1]\n",
    "\n",
    "# this is the set of zone centers\n",
    "r_zones = r_I[:-1]+Delta_r/2."
   ]
  },
  {
   "cell_type": "code",
   "execution_count": null,
   "metadata": {},
   "outputs": [],
   "source": [
    "# let's visualize the grid, choosing every 4th point\n",
    "# note that the plot is on a log scale in x, while the zone centers are supposed to be midway between the interfaces\n",
    "# as defined on a linear scale\n",
    "for rr in r_I[::4]:\n",
    "    plt.semilogx(rr+np.zeros(50),np.arange(50)/49.,linestyle='-',color='k')\n",
    "plt.semilogx(r_zones[1::4],np.zeros_like(r_zones[1::4])+0.5,marker='o',linestyle='',markersize=10)"
   ]
  },
  {
   "cell_type": "markdown",
   "metadata": {},
   "source": [
    "### set a \"power law\" density profile $\\rho(r) \\propto r^{-2}$"
   ]
  },
  {
   "cell_type": "code",
   "execution_count": null,
   "metadata": {},
   "outputs": [],
   "source": [
    "# let the inner density be some arbitrary value in g cm^-3, here a value typical of Sun-like stars on the main sequence\n",
    "rho0 = 1e2\n",
    "\n",
    "# calculate the density profile at zone centers\n",
    "rho_zones = rho0*(r_zones/r_inner)**(-2.)"
   ]
  },
  {
   "cell_type": "markdown",
   "metadata": {},
   "source": [
    "### 1. calculate the mass of each shell, $\\Delta m$, and the total mass enclosed at the radius of each shell, $m(r)$, along with the initial net velocity"
   ]
  },
  {
   "cell_type": "code",
   "execution_count": null,
   "metadata": {},
   "outputs": [],
   "source": [
    "# refer to class notes for the enclosed mass equations!\n",
    "\n",
    "delta_m = \n",
    "\n",
    "# m_zones is a cumulative sum of delta_m, or you can always solve for m_I+1/2 using a loop.\n",
    "m_zones = \n",
    "\n",
    "v_zones = np.zeros_like(rho_zones)"
   ]
  },
  {
   "cell_type": "markdown",
   "metadata": {},
   "source": [
    "### 2. use the discretized hydrostatic equilibrium equation to calculate the pressure at each interface\n",
    "--think about how to do the calculation one zone at a time, going backwards from the outer zone\n",
    "\n",
    "--what is the pressure at the outer boundary (the \"boundary condition\" needed to solve the differential equation)?"
   ]
  },
  {
   "cell_type": "code",
   "execution_count": null,
   "metadata": {},
   "outputs": [],
   "source": [
    "# Gravitational constant in cgs units\n",
    "G = 6.67e-8\n",
    "\n",
    "# solve for P_I, initially zero then enter your own code to solve for it using a Python loop (see day5 notebook)\n",
    "P_I = np.zeros_like(r_I)\n",
    "\n"
   ]
  },
  {
   "cell_type": "markdown",
   "metadata": {},
   "source": [
    "### 3. test how well our differenced equation works\n",
    "\n",
    "Compare the left hand side and right hand side of the numerical hydrostatic equilibrium equation as written on the discretized equation from class. \n",
    "$\\frac{P_{I+1}-P_I}{r_{I+1}-r_I} = -G \\frac{m_{I+1/2} \\rho_{I+1/2}}{r_{I+1/2}^2}$\n",
    "\n",
    "Measure the error as for example \n",
    "\n",
    "error = |left hand side - right hand side| / |left hand side|"
   ]
  },
  {
   "cell_type": "code",
   "execution_count": null,
   "metadata": {},
   "outputs": [],
   "source": [
    "# enter code here\n",
    "lhs = # enter calculation of left hand side of equation\n",
    "rhs = # enter calculation of right hand side of equation\n",
    "\n",
    "# now calculate and print the error. \n",
    "# think about how your answer compares to what you think it should be if we've solved for the pressure correctly"
   ]
  },
  {
   "cell_type": "markdown",
   "metadata": {},
   "source": [
    "### 4. calculate P at zone centers using the calculation at zone interfaces above"
   ]
  },
  {
   "cell_type": "code",
   "execution_count": null,
   "metadata": {},
   "outputs": [],
   "source": [
    "P_zones = "
   ]
  },
  {
   "cell_type": "markdown",
   "metadata": {},
   "source": [
    "## now we want to put this set of fluid variables (along with v = 0) into the time-dependent hydro code!"
   ]
  },
  {
   "cell_type": "markdown",
   "metadata": {},
   "source": [
    "### 5. make a prediction: when we do this, what do you expect for the behavior of rho(r), P(r), v(r) as functions of time?"
   ]
  },
  {
   "cell_type": "markdown",
   "metadata": {},
   "source": [
    "write your prediction here in 1-2 sentences thinking about what it means to be in hydrostatic equilibrium"
   ]
  },
  {
   "cell_type": "markdown",
   "metadata": {},
   "source": [
    "### now let's setup a hydro problem using the data generated above\n",
    "\n",
    "the cell below is defining a hydrodynamics problem using our hydro3.py code, defining initial and boundary conditions, and then replacing its own initial data with what we have generated above.\n",
    "\n",
    "you do not need to edit this cell, but please reach out with questions if you're wondering what it does."
   ]
  },
  {
   "cell_type": "code",
   "execution_count": null,
   "metadata": {},
   "outputs": [],
   "source": [
    "import hydro3\n",
    "\n",
    "# define a dictionary of arguments that we will pass to the hydrodynamics code specifying the problem to run\n",
    "args = {'nz':4000,'ut0':3e5,'udens':1e-5,'utslope':0.,'pin':0,'piston_eexp':1e51,'v_piston':1e9,'piston_stop':10,'r_outer':5e13,'rmin':1e7,'t_stop':1e6,'noplot':1}\n",
    "\n",
    "# define the variable h which is a \"lagrange_hydro_1d\" object (instance of a class)\n",
    "h = hydro3.lagrange_hydro_1d(**args)\n",
    "\n",
    "# variables stored within our object h are accessed by h.variable_name\n",
    "h.bctype=[h.INFLOW, h.OUTFLOW]\n",
    "h.itype=h.POWERLAW\n",
    "\n",
    "h.setup_initial_conditions()\n",
    "\n",
    "# here we replace the code's initial conditions data with our own\n",
    "# (no need to edit these lines!)\n",
    "\n",
    "# number of zones\n",
    "h.nz = n_zones\n",
    "\n",
    "# zones.r are the outer interface positions\n",
    "h.r_inner = r_I[0]/2.\n",
    "h.zones.r = r_I[1:]\n",
    "h.zones.dr = r_I[1:]-r_I[:-1]\n",
    "\n",
    "# v = 0 everywhere initially\n",
    "h.zones.v = np.zeros_like(h.zones.r)\n",
    "\n",
    "# density, mass of the current shell, pressure at zone centers\n",
    "h.zones.mass = delta_m\n",
    "h.zones.mcum = m_zones\n",
    "h.zones.d = rho_zones\n",
    "h.zones.p = P_zones\n",
    "\n",
    "# equation of state to compute u/rho from p\n",
    "h.zones.e = 1./(h.gamma-1.)*h.zones.p/h.zones.d\n",
    "\n",
    "# there's no mass inside the inner boundary\n",
    "h.mass_r_inner = h.zones.mass[0]\n",
    "\n",
    "# artificial viscosity (ignore for now!)\n",
    "h.zones.q = hydro3.get_viscosity(h.zones,h.v_inner,h.C_q)\n",
    "\n",
    "h.initialize_boundary_conditions()"
   ]
  },
  {
   "cell_type": "markdown",
   "metadata": {},
   "source": [
    "### let's run the code and see what happens!"
   ]
  },
  {
   "cell_type": "code",
   "execution_count": null,
   "metadata": {},
   "outputs": [],
   "source": [
    "h.run()"
   ]
  },
  {
   "cell_type": "markdown",
   "metadata": {},
   "source": [
    "### 6. make plots of:\n",
    "--mass density vs radius (log-log \"plt.loglog\")\n",
    "\n",
    "--velocity vs radius (linear-log \"plt.semilogx\"). \n",
    "\n",
    "Qualitatively, what does it look like has happened? Does this match your expectations? Why or why not?"
   ]
  },
  {
   "cell_type": "code",
   "execution_count": 1,
   "metadata": {},
   "outputs": [],
   "source": [
    "# plotting code here\n",
    "# the relevant hydro code variables are h.zones.r (radius), h.zones.v (velocity), h.zones.d (density) all in cgs units"
   ]
  }
 ],
 "metadata": {
  "kernelspec": {
   "display_name": "Python 3",
   "language": "python",
   "name": "python3"
  },
  "language_info": {
   "codemirror_mode": {
    "name": "ipython",
    "version": 3
   },
   "file_extension": ".py",
   "mimetype": "text/x-python",
   "name": "python",
   "nbconvert_exporter": "python",
   "pygments_lexer": "ipython3",
   "version": "3.7.3"
  }
 },
 "nbformat": 4,
 "nbformat_minor": 2
}
