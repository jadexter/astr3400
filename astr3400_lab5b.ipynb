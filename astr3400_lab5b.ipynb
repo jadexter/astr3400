{
 "cells": [
  {
   "cell_type": "code",
   "execution_count": null,
   "metadata": {},
   "outputs": [],
   "source": [
    "%matplotlib inline\n",
    "from astropy.io import fits\n",
    "import numpy as np\n",
    "import copy\n",
    "import matplotlib.pyplot as plt\n",
    "import constants as pc"
   ]
  },
  {
   "cell_type": "markdown",
   "metadata": {},
   "source": [
    "### Lab 5: a \"production\" run\n",
    "\n",
    "Option B: MESA"
   ]
  },
  {
   "cell_type": "markdown",
   "metadata": {},
   "source": [
    "### 1. Log in to scorpius, open a terminal (or use the filesystem) to go to the directory /opt/mesa/mesa-r23.05.1/star/test_suite"
   ]
  },
  {
   "cell_type": "markdown",
   "metadata": {},
   "source": [
    "### 2. Copy one of the tests to your home directory on scorpius\n",
    "\n",
    "in terminal:\n",
    "\n",
    "cp -r /opt/mesa/mesa-r23.05.1/star/test_suite/1M_pre_ms_to_wd ~/."
   ]
  },
  {
   "cell_type": "markdown",
   "metadata": {},
   "source": [
    "import 1D numerical hydrodynamics code and define an object that will store our simulation"
   ]
  },
  {
   "cell_type": "markdown",
   "metadata": {},
   "source": [
    "### 3. Compile the MESA problem\n",
    "\n",
    "in terminal:\n",
    "\n",
    "cd ~/1M_pre_ms_to_wd\n",
    "./mk"
   ]
  },
  {
   "cell_type": "markdown",
   "metadata": {},
   "source": [
    "### 4. Run the MESA problem\n",
    "\n",
    "in terminal:\n",
    "\n",
    "./rn\n",
    "\n",
    "this will take a long time to complete! after LOGS/profile2.data is written as a file, you can continue the lab while MESA continues running."
   ]
  },
  {
   "cell_type": "markdown",
   "metadata": {},
   "source": [
    "### 5. Form a hypothesis\n",
    "\n",
    "The test problem calculates the evolution of a 1 solar mass star. Make a prediction for what the data should look like while the star is on the main sequence, in terms of one or more fluid variables or stellar properties that you can test with the data."
   ]
  },
  {
   "cell_type": "markdown",
   "metadata": {},
   "source": [
    "### 5. Read the data from profile2.data\n",
    "\n",
    "You can use your solution to Lab 1 for this, or install the py_mesa_reader package available online"
   ]
  },
  {
   "cell_type": "markdown",
   "metadata": {},
   "source": [
    "Optional, recommended: if you would like to use py_mesa_reader to read the data, you should:\n",
    "--clone the git repository, by doing in terminal\n",
    "\n",
    "git clone https://github.com/wmwolf/py_mesa_reader.git\n",
    "\n",
    "--install the package, in terminal\n",
    "\n",
    "cd py_mesa_reader\n",
    "pip install --user .\n",
    "\n",
    "--change the code line below to add the mesa_reader_module location to your Python path"
   ]
  },
  {
   "cell_type": "code",
   "execution_count": null,
   "metadata": {},
   "outputs": [],
   "source": [
    "import sys\n",
    "sys.path.append('/home/your_identikey0000/py_mesa_reader')\n",
    "import mesa_reader as m\n",
    "\n",
    "path = ''\n",
    "ms = m.MesaData(file_name=path+'LOGS_to_end_H_core_burn/profile2.data')\n",
    "rg = m.MesaData(file_name=path+'LOGS/profile5.data')"
   ]
  },
  {
   "cell_type": "markdown",
   "metadata": {},
   "source": [
    "### 6. Test your hypothesis by analyzing the data\n",
    "\n",
    "Using plots or written output, test your hypothesis using variables from the profile1.data file. In what ways do your results seem to support your hypothesis? Do you see anything unexpected?\n",
    "\n",
    "Some potentially useful MESA variables:\n",
    "--r_equatorial (radius)\n",
    "--logRho (log10 mass density)\n",
    "--mass (enclosed mass)\n",
    "--pressure\n",
    "--pp and cno (energy generation rate from pp and cno hydrogen burning)\n",
    "\n",
    "using mesa_reader, these are accessed as for example\n",
    "\n",
    "ms.data('r_equatorial') or 10**(ms.data('logRho'))"
   ]
  },
  {
   "cell_type": "code",
   "execution_count": null,
   "metadata": {},
   "outputs": [],
   "source": []
  },
  {
   "cell_type": "markdown",
   "metadata": {},
   "source": [
    "### 7. Repeat steps 5 and 6 for the LOGS/profile5.data file. In what ways has the star changed? What stage of stellar evolution do you think this might be?"
   ]
  },
  {
   "cell_type": "code",
   "execution_count": null,
   "metadata": {},
   "outputs": [],
   "source": []
  },
  {
   "cell_type": "markdown",
   "metadata": {},
   "source": [
    "### 8. Develop a quantitative, analytic model to compare to the data\n",
    "\n",
    "Use some class concept related to hydrostatic equilibrium to compare to the MESA data from one of these time snapshots. \n",
    "\n",
    "### Please consult with a member of the teaching team to discuss your conclusions to this point and your plan before proceeding further!"
   ]
  },
  {
   "cell_type": "code",
   "execution_count": null,
   "metadata": {},
   "outputs": [],
   "source": []
  },
  {
   "cell_type": "markdown",
   "metadata": {},
   "source": [
    "### 8. Now compare your model to the data\n",
    "\n",
    "Make a plot comparing one prediction of your analytic model to the numerical result from your MESA calculation. In what ways are they similar or different? Do you consider this a useful model for understanding the time evolution of your star? Why or why not?"
   ]
  },
  {
   "cell_type": "code",
   "execution_count": null,
   "metadata": {},
   "outputs": [],
   "source": []
  }
 ],
 "metadata": {
  "kernelspec": {
   "display_name": "Python 3",
   "language": "python",
   "name": "python3"
  },
  "language_info": {
   "codemirror_mode": {
    "name": "ipython",
    "version": 3
   },
   "file_extension": ".py",
   "mimetype": "text/x-python",
   "name": "python",
   "nbconvert_exporter": "python",
   "pygments_lexer": "ipython3",
   "version": "3.7.3"
  }
 },
 "nbformat": 4,
 "nbformat_minor": 2
}
