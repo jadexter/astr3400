{
 "cells": [
  {
   "cell_type": "code",
   "execution_count": null,
   "metadata": {},
   "outputs": [],
   "source": [
    "%matplotlib inline\n",
    "import hydro3\n",
    "import constants as pc\n",
    "import numpy as np\n",
    "import matplotlib.pyplot as plt"
   ]
  },
  {
   "cell_type": "markdown",
   "metadata": {},
   "source": [
    "# Lab 3 -- a numerical convergence study using the Taylor-Sedov blast wave problem\n",
    "\n",
    "In this lab, we will set up a numerical experiment matching the physics problem of the Taylor-Sedov blast wave. A large amount of thermal energy is placed at the origin of a sphere of constant density gas. It then expands into the surrounding medium, producing a shock where the physical conditions are discontinuous between the ambient medium and the region the blast wave has passed through.\n",
    "\n",
    "We will quantitatively compare numerical results from our hydrodynamics code to one theoretical prediction for shock waves. We will determine whether the errors decrease with increasing number of numerical grid zones in the way expected for our numerical algorithm. This is often called a \"convergence study\" in astrophysics -- seeing whether and how quickly our numerical answer approaches the correct value from theory as the number of resolution elements goes to infinity."
   ]
  },
  {
   "cell_type": "code",
   "execution_count": null,
   "metadata": {},
   "outputs": [],
   "source": [
    "# define a dictionary of arguments that we will pass to the hydrodynamics code specifying the problem to run\n",
    "args = {'nz':500,'ut0':3e5,'udens':1e-6,'utslope':0.,'pin':0,'piston_eexp':1e51,'v_piston':1e9,'piston_stop':10,'r_outer':5e13,'rmin':1e10,'t_stop':5e4,'noplot':1}\n",
    "\n",
    "# define the variable h which is a \"lagrange_hydro_1d\" object (instance of a class)\n",
    "h = hydro3.lagrange_hydro_1d(**args)"
   ]
  },
  {
   "cell_type": "code",
   "execution_count": null,
   "metadata": {},
   "outputs": [],
   "source": [
    "# variables stored within our object h are accessed by h.variable_name\n",
    "h.bctype=[h.INFLOW, h.OUTFLOW]\n",
    "h.itype=h.POWERLAW"
   ]
  },
  {
   "cell_type": "code",
   "execution_count": null,
   "metadata": {},
   "outputs": [],
   "source": [
    "h.setup_initial_conditions()\n",
    "h.initialize_boundary_conditions()"
   ]
  },
  {
   "cell_type": "markdown",
   "metadata": {},
   "source": [
    "### 1. make plots of the initial  density, pressure, and velocity as functions of radius that we have given the code so far. \n",
    "\n",
    "--which variables should we plot? do the results match those of the Sedov-Taylor blast wave problem as described above?\n",
    "\n",
    "--what part is missing?"
   ]
  },
  {
   "cell_type": "code",
   "execution_count": null,
   "metadata": {},
   "outputs": [],
   "source": []
  },
  {
   "cell_type": "markdown",
   "metadata": {},
   "source": [
    "### 2. modify the initial condition\n",
    "--distribute an initial energy $E_0 = 10^{52}$ erg uniformly over the volume contained by the first 5-10 grid zones\n",
    "\n",
    "NOTE: the hydro code variable h.zones.e is the internal energy per unit *mass*, so that $e = u/\\rho$ with $u$ the internal energy density from class and $\\rho$ the mass density. You can also use the get_vol function in the hydro code to calculate the volume if you like."
   ]
  },
  {
   "cell_type": "code",
   "execution_count": null,
   "metadata": {},
   "outputs": [],
   "source": []
  },
  {
   "cell_type": "markdown",
   "metadata": {},
   "source": [
    "### now try running the code!"
   ]
  },
  {
   "cell_type": "code",
   "execution_count": null,
   "metadata": {},
   "outputs": [],
   "source": [
    "h.run()"
   ]
  },
  {
   "cell_type": "markdown",
   "metadata": {},
   "source": [
    "### let's figure out what happened"
   ]
  },
  {
   "cell_type": "markdown",
   "metadata": {},
   "source": [
    "### 3. make log-linear (plt.semilogx) plots of the density, pressure, and velocity as functions of radius\n",
    "--Describe the resulting curves. How are they different than what we started with? Describe in 1-2 sentences."
   ]
  },
  {
   "cell_type": "code",
   "execution_count": null,
   "metadata": {},
   "outputs": [],
   "source": []
  },
  {
   "cell_type": "markdown",
   "metadata": {},
   "source": [
    "### now let's run the code twice as long"
   ]
  },
  {
   "cell_type": "code",
   "execution_count": null,
   "metadata": {},
   "outputs": [],
   "source": [
    "h.t_stop=h.t*2.\n",
    "h.run()"
   ]
  },
  {
   "cell_type": "markdown",
   "metadata": {
    "scrolled": true
   },
   "source": [
    "### make the same plots as above.\n",
    "--in what ways do they look similar and different from before? what has changed?"
   ]
  },
  {
   "cell_type": "code",
   "execution_count": null,
   "metadata": {},
   "outputs": [],
   "source": []
  },
  {
   "cell_type": "markdown",
   "metadata": {},
   "source": [
    "### 4. compression in a strong shock wave\n",
    "--shock waves compress a fluid and increase its density. for a strong shock, the ratio of the density maximum to its post-shock value is $(\\gamma+1)/(\\gamma-1)$.\n",
    "\n",
    "--Identify the location of your shock wave in radius. By measuring the density \"pre\" (upstream, larger radius) and \"post\" shock (downstream, smaller radius), calculate your numerical value for this quantity. Is it close to what theory predicts?"
   ]
  },
  {
   "cell_type": "code",
   "execution_count": null,
   "metadata": {},
   "outputs": [],
   "source": []
  },
  {
   "cell_type": "markdown",
   "metadata": {},
   "source": [
    "### 5. now let's use this as a convergence test\n",
    "--repeat your numerical experiment for a number of zones = [250, 500, 1000, 2000, 4000]. (You might want to copy/paste below in a new cell for example, or run it in a for loop.)\n",
    "\n",
    "--make a log-log plot of the error |numerical value - expected value|/|expected value| as a function of the number of zones. How does the error change with the number of zones?\n",
    "\n",
    "--our numerical method for solving the fluid equations is \"second-order accurate,\" meaning that the error terms scale with $(\\Delta r)^2$ or with $N^{-2}$ for $N$ zones. Are your numerical results consistent with this expected scaling?"
   ]
  },
  {
   "cell_type": "code",
   "execution_count": null,
   "metadata": {},
   "outputs": [],
   "source": []
  }
 ],
 "metadata": {
  "kernelspec": {
   "display_name": "Python 3",
   "language": "python",
   "name": "python3"
  },
  "language_info": {
   "codemirror_mode": {
    "name": "ipython",
    "version": 3
   },
   "file_extension": ".py",
   "mimetype": "text/x-python",
   "name": "python",
   "nbconvert_exporter": "python",
   "pygments_lexer": "ipython3",
   "version": "3.7.3"
  }
 },
 "nbformat": 4,
 "nbformat_minor": 2
}
