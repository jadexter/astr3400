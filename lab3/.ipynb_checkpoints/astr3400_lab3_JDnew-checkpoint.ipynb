{
 "cells": [
  {
   "cell_type": "code",
   "execution_count": 1,
   "metadata": {},
   "outputs": [],
   "source": [
    "%matplotlib inline\n",
    "import hydro3\n",
    "import constants as pc\n",
    "import numpy as np\n",
    "import matplotlib.pyplot as plt"
   ]
  },
  {
   "cell_type": "markdown",
   "metadata": {},
   "source": [
    "# Lab 3 -- a numerical convergence study using the Taylor-Sedov blast wave problem\n",
    "\n",
    "In this lab, we will set up a numerical experiment matching the physics problem of the Taylor-Sedov blast wave. A large amount of thermal energy is placed at the origin of a sphere of constant density gas. It then expands into the surrounding medium, producing a shock where the physical conditions are discontinuous between the ambient medium and the region the blast wave has passed through.\n",
    "\n",
    "We will quantitatively compare numerical results from our hydrodynamics code to one theoretical prediction for shock waves. We will determine whether the errors decrease with increasing number of numerical grid zones in the way expected for our numerical algorithm. This is often called a \"convergence study\" in astrophysics -- seeing whether and how quickly our numerical answer approaches the correct value from theory as the number of resolution elements goes to infinity."
   ]
  },
  {
   "cell_type": "code",
   "execution_count": 2,
   "metadata": {},
   "outputs": [],
   "source": [
    "# define a dictionary of arguments that we will pass to the hydrodynamics code specifying the problem to run\n",
    "args = {'nz':500,'ut0':3e5,'udens':1e-6,'utslope':0.,'pin':0,'piston_eexp':1e51,'v_piston':1e9,'piston_stop':10,'r_outer':5e13,'rmin':1e10,'t_stop':5e4,'noplot':1}\n",
    "\n",
    "# define the variable h which is a \"lagrange_hydro_1d\" object (instance of a class)\n",
    "h = hydro3.lagrange_hydro_1d(**args)"
   ]
  },
  {
   "cell_type": "code",
   "execution_count": 3,
   "metadata": {},
   "outputs": [],
   "source": [
    "# variables stored within our object h are accessed by h.variable_name\n",
    "h.bctype=[h.INFLOW, h.OUTFLOW]\n",
    "h.itype=h.POWERLAW"
   ]
  },
  {
   "cell_type": "code",
   "execution_count": 4,
   "metadata": {},
   "outputs": [],
   "source": [
    "h.setup_initial_conditions()\n",
    "h.initialize_boundary_conditions()"
   ]
  },
  {
   "cell_type": "markdown",
   "metadata": {},
   "source": [
    "### 1. make plots of the initial density, pressure, and velocity as functions of radius that we have given the code so far. \n",
    "\n",
    "the variables in the hydro code are h.zones.d, h.zones.p, h.zones.v and you may refer to our past labs or class notebooks for Python plotting code.\n",
    "\n",
    "--do the results match those of the Sedov-Taylor blast wave problem as described above?\n",
    "\n",
    "--what part is missing?"
   ]
  },
  {
   "cell_type": "code",
   "execution_count": null,
   "metadata": {},
   "outputs": [],
   "source": []
  },
  {
   "cell_type": "markdown",
   "metadata": {},
   "source": [
    "### 2. modify the initial condition\n",
    "--distribute an initial energy $E_0 = 10^{52}$ erg uniformly over the total volume contained by the first 5-10 grid zones\n",
    "\n",
    "NOTE: the hydro code variable h.zones.e is the internal energy per unit *mass*, so that $e = u/\\rho$ with $u$ the internal energy density from class and $\\rho$ the mass density."
   ]
  },
  {
   "cell_type": "code",
   "execution_count": 5,
   "metadata": {},
   "outputs": [],
   "source": [
    "indx=6\n",
    "vol=4./3.*np.pi*h.zones.r[indx]**3.\n",
    "u=1e52/vol\n",
    "h.zones.e[indx]=u/h.zones.d[indx]"
   ]
  },
  {
   "cell_type": "markdown",
   "metadata": {},
   "source": [
    "### now try running the code!"
   ]
  },
  {
   "cell_type": "code",
   "execution_count": 6,
   "metadata": {},
   "outputs": [
    {
     "name": "stdout",
     "output_type": "stream",
     "text": [
      "     0 0.000e+00 1.000e+03\n",
      "0.000e+00 2.711e+02 0.000e+00 2.397e+51 -2.318e+50 2.165e+51\n",
      "   100 1.059e+03 5.469e-01\n",
      "0.000e+00 2.711e+02 4.396e+50 1.929e+51 -2.318e+50 2.136e+51\n",
      "   200 1.125e+03 7.235e-01\n",
      "1.621e+30 2.711e+02 3.553e+50 1.853e+51 -2.318e+50 1.977e+51\n",
      "   300 1.208e+03 8.988e-01\n",
      "1.621e+30 2.711e+02 4.312e+50 1.795e+51 -2.318e+50 1.994e+51\n",
      "   400 1.309e+03 1.083e+00\n",
      "1.621e+30 2.711e+02 4.500e+50 1.801e+51 -2.318e+50 2.019e+51\n",
      "   500 1.427e+03 1.219e+00\n",
      "1.621e+30 2.711e+02 4.445e+50 1.822e+51 -2.318e+50 2.035e+51\n",
      "   600 1.552e+03 1.291e+00\n",
      "1.621e+30 2.711e+02 4.614e+50 1.805e+51 -2.318e+50 2.035e+51\n",
      "   700 1.695e+03 1.594e+00\n",
      "1.621e+30 2.711e+02 4.636e+50 1.793e+51 -2.318e+50 2.025e+51\n",
      "   800 1.862e+03 1.797e+00\n",
      "1.621e+30 2.711e+02 4.480e+50 1.801e+51 -2.318e+50 2.017e+51\n",
      "   900 2.051e+03 1.984e+00\n",
      "1.621e+30 2.711e+02 4.491e+50 1.809e+51 -2.318e+50 2.026e+51\n",
      "  1000 2.267e+03 2.267e+00"
     ]
    },
    {
     "name": "stderr",
     "output_type": "stream",
     "text": [
      "/Users/jade8030/Dropbox/python/astr3400/lab3/hydro3.py:502: RuntimeWarning: divide by zero encountered in true_divide\n",
      "  new_d = self.zones.mass/self.zones.vol\n",
      "/Users/jade8030/Dropbox/python/astr3400/lab3/hydro3.py:527: RuntimeWarning: invalid value encountered in multiply\n",
      "  self.zones.p = (self.gamma - 1)*new_e*new_d\n"
     ]
    },
    {
     "name": "stdout",
     "output_type": "stream",
     "text": [
      "\n",
      "1.621e+30 2.711e+02 4.515e+50 1.826e+51 -2.318e+50 2.046e+51\n",
      "  1100 2.512e+03 2.605e+00\n",
      "1.621e+30 2.711e+02 4.439e+50 1.847e+51 -2.318e+50 2.059e+51\n",
      "  1200 2.783e+03 2.900e+00\n",
      "1.621e+30 2.711e+02 4.488e+50 1.841e+51 -2.318e+50 2.058e+51\n",
      "  1300 3.088e+03 3.175e+00\n",
      "1.621e+30 2.711e+02 4.500e+50 1.831e+51 -2.318e+50 2.050e+51\n",
      "  1400 3.425e+03 3.468e+00\n",
      "1.621e+30 2.711e+02 4.515e+50 1.831e+51 -2.318e+50 2.051e+51\n",
      "  1500 3.781e+03 3.546e+00\n",
      "1.621e+30 2.711e+02 4.569e+50 1.838e+51 -2.318e+50 2.063e+51\n",
      "  1600 4.129e+03 3.441e+00\n",
      "1.621e+30 2.711e+02 4.578e+50 1.847e+51 -2.318e+50 2.073e+51\n",
      "  1700 4.478e+03 3.687e+00\n",
      "1.621e+30 2.711e+02 4.565e+50 1.849e+51 -2.318e+50 2.074e+51\n",
      "  1800 4.875e+03 4.257e+00\n",
      "1.621e+30 2.711e+02 4.540e+50 1.848e+51 -2.318e+50 2.070e+51\n",
      "  1900 5.315e+03 4.531e+00\n",
      "1.621e+30 2.711e+02 4.511e+50 1.851e+51 -2.318e+50 2.071e+51\n",
      "  2000 5.789e+03 4.867e+00\n",
      "1.621e+30 2.711e+02 4.497e+50 1.860e+51 -2.318e+50 2.078e+51\n",
      "  2100 6.272e+03 4.828e+00\n",
      "1.621e+30 2.711e+02 4.487e+50 1.867e+51 -2.318e+50 2.084e+51\n",
      "  2200 6.765e+03 5.108e+00\n",
      "1.621e+30 2.711e+02 4.487e+50 1.867e+51 -2.318e+50 2.084e+51\n",
      "  2300 7.298e+03 5.535e+00\n",
      "1.621e+30 2.711e+02 4.493e+50 1.866e+51 -2.318e+50 2.084e+51\n",
      "  2400 7.865e+03 5.766e+00\n",
      "1.621e+30 2.711e+02 4.505e+50 1.868e+51 -2.318e+50 2.087e+51\n",
      "  2500 8.441e+03 5.743e+00\n",
      "1.621e+30 2.711e+02 4.519e+50 1.871e+51 -2.318e+50 2.092e+51\n",
      "  2600 9.019e+03 5.867e+00\n",
      "1.621e+30 2.711e+02 4.537e+50 1.872e+51 -2.318e+50 2.094e+51\n",
      "  2700 9.621e+03 6.170e+00\n",
      "1.621e+30 2.711e+02 4.553e+50 1.872e+51 -2.318e+50 2.096e+51\n",
      "  2800 1.025e+04 6.420e+00\n",
      "1.621e+30 2.711e+02 4.546e+50 1.875e+51 -2.318e+50 2.098e+51\n",
      "  2900 1.090e+04 6.532e+00\n",
      "1.621e+30 2.711e+02 4.540e+50 1.878e+51 -2.317e+50 2.101e+51\n",
      "  3000 1.156e+04 6.659e+00\n",
      "1.621e+30 2.711e+02 4.536e+50 1.881e+51 -2.317e+50 2.103e+51\n",
      "  3100 1.223e+04 6.871e+00\n",
      "1.621e+30 2.711e+02 4.536e+50 1.883e+51 -2.317e+50 2.105e+51\n",
      "  3200 1.293e+04 7.070e+00\n",
      "1.621e+30 2.711e+02 4.540e+50 1.884e+51 -2.317e+50 2.106e+51\n",
      "  3300 1.365e+04 7.204e+00\n",
      "1.621e+30 2.711e+02 4.545e+50 1.886e+51 -2.317e+50 2.109e+51\n",
      "  3400 1.437e+04 7.321e+00\n",
      "1.621e+30 2.711e+02 4.554e+50 1.887e+51 -2.317e+50 2.111e+51\n",
      "  3500 1.511e+04 7.478e+00\n",
      "1.621e+30 2.711e+02 4.563e+50 1.888e+51 -2.317e+50 2.112e+51\n",
      "  3600 1.587e+04 7.657e+00\n",
      "1.621e+30 2.711e+02 4.574e+50 1.888e+51 -2.317e+50 2.114e+51\n",
      "  3700 1.664e+04 7.804e+00\n",
      "1.621e+30 2.711e+02 4.585e+50 1.889e+51 -2.317e+50 2.115e+51\n",
      "  3800 1.743e+04 7.919e+00\n",
      "1.621e+30 2.711e+02 4.589e+50 1.890e+51 -2.317e+50 2.117e+51\n",
      "  3900 1.822e+04 8.047e+00\n",
      "1.621e+30 2.711e+02 4.585e+50 1.892e+51 -2.317e+50 2.119e+51\n",
      "  4000 1.904e+04 8.186e+00\n",
      "1.621e+30 2.711e+02 4.585e+50 1.893e+51 -2.317e+50 2.120e+51\n",
      "  4100 1.986e+04 8.358e+00\n",
      "1.621e+30 2.711e+02 4.587e+50 1.895e+51 -2.317e+50 2.122e+51\n",
      "  4200 2.071e+04 8.521e+00\n",
      "1.621e+30 2.711e+02 4.590e+50 1.896e+51 -2.317e+50 2.123e+51\n",
      "  4300 2.157e+04 8.643e+00\n",
      "1.621e+30 2.711e+02 4.593e+50 1.897e+51 -2.317e+50 2.125e+51\n",
      "  4400 2.244e+04 8.767e+00\n",
      "1.621e+30 2.711e+02 4.598e+50 1.898e+51 -2.317e+50 2.126e+51\n",
      "  4500 2.332e+04 8.890e+00\n",
      "1.621e+30 2.711e+02 4.603e+50 1.899e+51 -2.317e+50 2.128e+51\n",
      "  4600 2.422e+04 9.038e+00\n",
      "1.621e+30 2.711e+02 4.608e+50 1.900e+51 -2.317e+50 2.129e+51\n",
      "  4700 2.513e+04 9.197e+00\n",
      "1.621e+30 2.711e+02 4.608e+50 1.902e+51 -2.316e+50 2.131e+51\n",
      "  4800 2.605e+04 9.336e+00\n",
      "1.621e+30 2.711e+02 4.605e+50 1.903e+51 -2.316e+50 2.132e+51\n",
      "  4900 2.699e+04 9.449e+00\n",
      "1.621e+30 2.711e+02 4.604e+50 1.905e+51 -2.316e+50 2.134e+51\n",
      "  5000 2.794e+04 9.529e+00\n",
      "1.621e+30 2.711e+02 4.604e+50 1.906e+51 -2.316e+50 2.135e+51\n",
      "  5100 2.890e+04 9.574e+00\n",
      "1.621e+30 2.711e+02 4.604e+50 1.907e+51 -2.316e+50 2.136e+51\n",
      "  5200 2.986e+04 9.619e+00\n",
      "1.621e+30 2.711e+02 4.606e+50 1.908e+51 -2.316e+50 2.137e+51\n",
      "  5300 3.082e+04 9.661e+00\n",
      "1.621e+30 2.711e+02 4.608e+50 1.909e+51 -2.316e+50 2.139e+51\n",
      "  5400 3.179e+04 9.702e+00\n",
      "1.621e+30 2.711e+02 4.610e+50 1.910e+51 -2.316e+50 2.140e+51\n",
      "  5500 3.276e+04 9.744e+00\n",
      "1.621e+30 2.711e+02 4.613e+50 1.911e+51 -2.316e+50 2.141e+51\n",
      "  5600 3.374e+04 9.786e+00\n",
      "1.621e+30 2.711e+02 4.615e+50 1.912e+51 -2.315e+50 2.142e+51\n",
      "  5700 3.472e+04 9.826e+00\n",
      "1.621e+30 2.711e+02 4.618e+50 1.913e+51 -2.315e+50 2.143e+51\n",
      "  5800 3.570e+04 9.862e+00\n",
      "1.621e+30 2.711e+02 4.619e+50 1.914e+51 -2.315e+50 2.144e+51\n",
      "  5900 3.669e+04 9.899e+00\n",
      "1.621e+30 2.711e+02 4.621e+50 1.914e+51 -2.315e+50 2.145e+51\n",
      "  6000 3.768e+04 9.943e+00\n",
      "1.621e+30 2.711e+02 4.622e+50 1.915e+51 -2.315e+50 2.146e+51\n",
      "  6100 3.868e+04 9.994e+00\n",
      "1.621e+30 2.711e+02 4.624e+50 1.916e+51 -2.315e+50 2.147e+51\n",
      "  6200 3.968e+04 1.004e+01\n",
      "1.621e+30 2.711e+02 4.626e+50 1.917e+51 -2.315e+50 2.148e+51\n",
      "  6300 4.069e+04 1.007e+01\n",
      "1.621e+30 2.711e+02 4.628e+50 1.918e+51 -2.314e+50 2.149e+51\n",
      "  6400 4.170e+04 1.011e+01\n",
      "1.621e+30 2.711e+02 4.630e+50 1.919e+51 -2.314e+50 2.150e+51\n",
      "  6500 4.271e+04 1.014e+01\n",
      "1.621e+30 2.711e+02 4.633e+50 1.919e+51 -2.314e+50 2.151e+51\n",
      "  6600 4.372e+04 1.018e+01\n",
      "1.621e+30 2.711e+02 4.635e+50 1.920e+51 -2.314e+50 2.152e+51\n",
      "  6700 4.474e+04 1.021e+01\n",
      "1.621e+30 2.711e+02 4.637e+50 1.921e+51 -2.314e+50 2.153e+51\n",
      "  6800 4.577e+04 1.025e+01\n",
      "1.621e+30 2.711e+02 4.639e+50 1.922e+51 -2.314e+50 2.154e+51\n",
      "  6900 4.679e+04 1.028e+01\n",
      "1.621e+30 2.711e+02 4.641e+50 1.922e+51 -2.313e+50 2.155e+51\n",
      "  7000 4.782e+04 1.031e+01\n",
      "1.621e+30 2.711e+02 4.643e+50 1.923e+51 -2.313e+50 2.156e+51\n",
      "  7100 4.885e+04 1.034e+01\n",
      "1.621e+30 2.711e+02 4.644e+50 1.924e+51 -2.313e+50 2.157e+51\n",
      "  7200 4.989e+04 1.037e+01\n",
      "1.621e+30 2.711e+02 4.646e+50 1.924e+51 -2.313e+50 2.158e+51\n"
     ]
    }
   ],
   "source": [
    "h.run()"
   ]
  },
  {
   "cell_type": "markdown",
   "metadata": {},
   "source": [
    "### let's figure out what happened"
   ]
  },
  {
   "cell_type": "markdown",
   "metadata": {},
   "source": [
    "### 3. make log-linear (plt.semilogx) plots of the density, pressure, and velocity as functions of radius\n",
    "--Describe the resulting curves. How are they different than what we started with? Describe in 1-2 sentences."
   ]
  },
  {
   "cell_type": "code",
   "execution_count": 7,
   "metadata": {},
   "outputs": [
    {
     "data": {
      "text/plain": [
       "[<matplotlib.lines.Line2D at 0x7f8e110b7198>]"
      ]
     },
     "execution_count": 7,
     "metadata": {},
     "output_type": "execute_result"
    },
    {
     "data": {
      "image/png": "[encoded data removed]",
      "text/plain": [
       "<Figure size 432x288 with 1 Axes>"
      ]
     },
     "metadata": {
      "needs_background": "light"
     },
     "output_type": "display_data"
    },
    {
     "data": {
      "image/png": "[encoded data removed]",
      "text/plain": [
       "<Figure size 360x288 with 1 Axes>"
      ]
     },
     "metadata": {
      "needs_background": "light"
     },
     "output_type": "display_data"
    }
   ],
   "source": [
    "plt.semilogx(h.zones.r,h.zones.v)\n",
    "plt.figure(figsize=(5,4))\n",
    "plt.semilogx(h.zones.r,h.zones.d)"
   ]
  },
  {
   "cell_type": "markdown",
   "metadata": {},
   "source": [
    "### now let's run the code twice as long"
   ]
  },
  {
   "cell_type": "code",
   "execution_count": 8,
   "metadata": {},
   "outputs": [
    {
     "name": "stdout",
     "output_type": "stream",
     "text": [
      "  7300 5.093e+04 1.040e+01\n",
      "1.621e+30 2.711e+02 4.647e+50 1.925e+51 -2.313e+50 2.158e+51\n",
      "  7400 5.197e+04 1.043e+01\n",
      "1.621e+30 2.711e+02 4.649e+50 1.925e+51 -2.312e+50 2.159e+51\n",
      "  7500 5.301e+04 1.046e+01\n",
      "1.621e+30 2.711e+02 4.651e+50 1.926e+51 -2.312e+50 2.160e+51\n",
      "  7600 5.406e+04 1.049e+01\n",
      "1.621e+30 2.711e+02 4.653e+50 1.927e+51 -2.312e+50 2.161e+51\n",
      "  7700 5.511e+04 1.053e+01\n",
      "1.621e+30 2.711e+02 4.654e+50 1.927e+51 -2.312e+50 2.162e+51\n",
      "  7800 5.617e+04 1.056e+01\n",
      "1.621e+30 2.711e+02 4.656e+50 1.928e+51 -2.311e+50 2.162e+51\n",
      "  7900 5.723e+04 1.059e+01\n",
      "1.621e+30 2.711e+02 4.657e+50 1.929e+51 -2.311e+50 2.163e+51\n",
      "  8000 5.829e+04 1.062e+01\n",
      "1.621e+30 2.711e+02 4.658e+50 1.929e+51 -2.311e+50 2.164e+51\n",
      "  8100 5.935e+04 1.065e+01\n",
      "1.621e+30 2.711e+02 4.659e+50 1.930e+51 -2.311e+50 2.165e+51\n",
      "  8200 6.042e+04 1.067e+01\n",
      "1.621e+30 2.711e+02 4.660e+50 1.931e+51 -2.310e+50 2.166e+51\n",
      "  8300 6.148e+04 1.070e+01\n",
      "1.621e+30 2.711e+02 4.661e+50 1.931e+51 -2.310e+50 2.166e+51\n",
      "  8400 6.256e+04 1.073e+01\n",
      "1.621e+30 2.711e+02 4.662e+50 1.932e+51 -2.310e+50 2.167e+51\n",
      "  8500 6.363e+04 1.076e+01\n",
      "1.621e+30 2.711e+02 4.663e+50 1.933e+51 -2.310e+50 2.168e+51\n",
      "  8600 6.471e+04 1.078e+01\n",
      "1.621e+30 2.711e+02 4.663e+50 1.933e+51 -2.309e+50 2.169e+51\n",
      "  8700 6.579e+04 1.081e+01\n",
      "1.621e+30 2.711e+02 4.664e+50 1.934e+51 -2.309e+50 2.169e+51\n",
      "  8800 6.687e+04 1.083e+01\n",
      "1.621e+30 2.711e+02 4.665e+50 1.934e+51 -2.309e+50 2.170e+51\n",
      "  8900 6.795e+04 1.086e+01\n",
      "1.621e+30 2.711e+02 4.665e+50 1.935e+51 -2.308e+50 2.171e+51\n",
      "  9000 6.904e+04 1.088e+01\n",
      "1.621e+30 2.711e+02 4.665e+50 1.936e+51 -2.308e+50 2.171e+51\n",
      "  9100 7.013e+04 1.091e+01\n",
      "1.621e+30 2.711e+02 4.665e+50 1.936e+51 -2.308e+50 2.172e+51\n",
      "  9200 7.122e+04 1.093e+01\n",
      "1.621e+30 2.711e+02 4.665e+50 1.937e+51 -2.308e+50 2.173e+51\n",
      "  9300 7.232e+04 1.095e+01\n",
      "1.621e+30 2.711e+02 4.665e+50 1.937e+51 -2.307e+50 2.173e+51\n",
      "  9400 7.341e+04 1.098e+01\n",
      "1.621e+30 2.711e+02 4.665e+50 1.938e+51 -2.307e+50 2.174e+51\n",
      "  9500 7.451e+04 1.100e+01\n",
      "1.621e+30 2.711e+02 4.665e+50 1.939e+51 -2.307e+50 2.174e+51\n",
      "  9600 7.561e+04 1.102e+01\n",
      "1.621e+30 2.711e+02 4.665e+50 1.939e+51 -2.306e+50 2.175e+51\n",
      "  9700 7.672e+04 1.105e+01\n",
      "1.621e+30 2.711e+02 4.665e+50 1.940e+51 -2.306e+50 2.176e+51\n",
      "  9800 7.782e+04 1.107e+01\n",
      "1.621e+30 2.711e+02 4.665e+50 1.940e+51 -2.306e+50 2.176e+51\n",
      "  9900 7.893e+04 1.110e+01\n",
      "1.621e+30 2.711e+02 4.665e+50 1.941e+51 -2.305e+50 2.177e+51\n",
      " 10000 8.004e+04 1.112e+01\n",
      "1.621e+30 2.711e+02 4.665e+50 1.941e+51 -2.305e+50 2.178e+51\n",
      " 10100 8.115e+04 1.114e+01\n",
      "1.621e+30 2.711e+02 4.665e+50 1.942e+51 -2.304e+50 2.178e+51\n",
      " 10200 8.227e+04 1.116e+01\n",
      "1.621e+30 2.711e+02 4.665e+50 1.943e+51 -2.304e+50 2.179e+51\n",
      " 10300 8.339e+04 1.118e+01\n",
      "1.621e+30 2.711e+02 4.665e+50 1.943e+51 -2.304e+50 2.179e+51\n",
      " 10400 8.450e+04 1.120e+01\n",
      "1.621e+30 2.711e+02 4.666e+50 1.944e+51 -2.303e+50 2.180e+51\n",
      " 10500 8.563e+04 1.123e+01\n",
      "1.621e+30 2.711e+02 4.666e+50 1.944e+51 -2.303e+50 2.180e+51\n",
      " 10600 8.675e+04 1.125e+01\n",
      "1.621e+30 2.711e+02 4.666e+50 1.945e+51 -2.303e+50 2.181e+51\n",
      " 10700 8.788e+04 1.127e+01\n",
      "1.621e+30 2.711e+02 4.666e+50 1.945e+51 -2.302e+50 2.182e+51\n",
      " 10800 8.900e+04 1.129e+01\n",
      "1.621e+30 2.711e+02 4.666e+50 1.946e+51 -2.302e+50 2.182e+51\n",
      " 10900 9.013e+04 1.131e+01\n",
      "1.621e+30 2.711e+02 4.667e+50 1.946e+51 -2.301e+50 2.183e+51\n",
      " 11000 9.127e+04 1.133e+01\n",
      "1.621e+30 2.711e+02 4.667e+50 1.947e+51 -2.301e+50 2.183e+51\n",
      " 11100 9.240e+04 1.135e+01\n",
      "1.621e+30 2.711e+02 4.667e+50 1.947e+51 -2.300e+50 2.184e+51\n",
      " 11200 9.354e+04 1.137e+01\n",
      "1.621e+30 2.711e+02 4.667e+50 1.948e+51 -2.300e+50 2.184e+51\n",
      " 11300 9.467e+04 1.139e+01\n",
      "1.621e+30 2.711e+02 4.667e+50 1.948e+51 -2.300e+50 2.185e+51\n",
      " 11400 9.581e+04 1.141e+01\n",
      "1.621e+30 2.711e+02 4.667e+50 1.949e+51 -2.299e+50 2.185e+51\n",
      " 11500 9.695e+04 1.143e+01\n",
      "1.621e+30 2.711e+02 4.666e+50 1.949e+51 -2.299e+50 2.186e+51\n",
      " 11600 9.810e+04 1.145e+01\n",
      "1.621e+30 2.711e+02 4.666e+50 1.950e+51 -2.298e+50 2.186e+51\n",
      " 11700 9.924e+04 1.147e+01\n",
      "1.621e+30 2.711e+02 4.666e+50 1.950e+51 -2.298e+50 2.187e+51\n"
     ]
    }
   ],
   "source": [
    "h.t_stop=h.t*2.\n",
    "h.run()"
   ]
  },
  {
   "cell_type": "markdown",
   "metadata": {
    "scrolled": true
   },
   "source": [
    "### make the same plots as above.\n",
    "--in what ways do they look similar and different from before? what has changed?"
   ]
  },
  {
   "cell_type": "code",
   "execution_count": 9,
   "metadata": {},
   "outputs": [
    {
     "data": {
      "text/plain": [
       "[<matplotlib.lines.Line2D at 0x7f8dc007fb70>]"
      ]
     },
     "execution_count": 9,
     "metadata": {},
     "output_type": "execute_result"
    },
    {
     "data": {
      "image/png": "[encoded data removed]",
      "text/plain": [
       "<Figure size 432x288 with 1 Axes>"
      ]
     },
     "metadata": {
      "needs_background": "light"
     },
     "output_type": "display_data"
    },
    {
     "data": {
      "image/png": "[encoded data removed]",
      "text/plain": [
       "<Figure size 360x288 with 1 Axes>"
      ]
     },
     "metadata": {
      "needs_background": "light"
     },
     "output_type": "display_data"
    }
   ],
   "source": [
    "plt.semilogx(h.zones.r,h.zones.v)\n",
    "plt.figure(figsize=(5,4))\n",
    "plt.semilogx(h.zones.r,h.zones.d)"
   ]
  },
  {
   "cell_type": "code",
   "execution_count": 10,
   "metadata": {},
   "outputs": [
    {
     "data": {
      "text/plain": [
       "100013.02791029206"
      ]
     },
     "execution_count": 10,
     "metadata": {},
     "output_type": "execute_result"
    }
   ],
   "source": [
    "h.t"
   ]
  },
  {
   "cell_type": "markdown",
   "metadata": {},
   "source": [
    "### 4. compression in a strong shock wave\n",
    "--shock waves compress a fluid and increase its density. for a strong shock, the ratio of the density maximum to its post-shock value is $(\\gamma+1)/(\\gamma-1)$.\n",
    "\n",
    "--Identify the location of your shock wave in radius. By measuring the density \"pre\" (upstream, larger radius) and \"post\" shock (downstream, smaller radius), calculate your numerical value for this quantity. Is it close to what theory predicts?"
   ]
  },
  {
   "cell_type": "code",
   "execution_count": null,
   "metadata": {},
   "outputs": [],
   "source": []
  },
  {
   "cell_type": "markdown",
   "metadata": {},
   "source": [
    "### 5. now let's use this as a convergence test\n",
    "--repeat your numerical experiment for a number of zones h.nz = [250, 500, 1000, 2000, 4000]. (You might want to copy/paste below in a new cell for example, or run it in a for loop.)\n",
    "\n",
    "--make a log-log plot of the error |numerical value - expected value|/|expected value| as a function of the number of zones. How does the error change with the number of zones?\n",
    "\n",
    "--our numerical method for solving the fluid equations is \"second-order accurate,\" meaning that the error terms scale with $(\\Delta r)^2$ or with $N^{-2}$ for $N$ zones. Are your numerical results consistent with this expected scaling?"
   ]
  },
  {
   "cell_type": "code",
   "execution_count": null,
   "metadata": {},
   "outputs": [],
   "source": []
  },
  {
   "cell_type": "code",
   "execution_count": null,
   "metadata": {},
   "outputs": [],
   "source": []
  }
 ],
 "metadata": {
  "kernelspec": {
   "display_name": "Python 3",
   "language": "python",
   "name": "python3"
  },
  "language_info": {
   "codemirror_mode": {
    "name": "ipython",
    "version": 3
   },
   "file_extension": ".py",
   "mimetype": "text/x-python",
   "name": "python",
   "nbconvert_exporter": "python",
   "pygments_lexer": "ipython3",
   "version": "3.7.3"
  }
 },
 "nbformat": 4,
 "nbformat_minor": 2
}
